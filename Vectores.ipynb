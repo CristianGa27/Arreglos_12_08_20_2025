{
  "nbformat": 4,
  "nbformat_minor": 0,
  "metadata": {
    "colab": {
      "provenance": [],
      "authorship_tag": "ABX9TyO4nCA46A6TwoizO725ZtEX",
      "include_colab_link": true
    },
    "kernelspec": {
      "name": "python3",
      "display_name": "Python 3"
    },
    "language_info": {
      "name": "python"
    }
  },
  "cells": [
    {
      "cell_type": "markdown",
      "metadata": {
        "id": "view-in-github",
        "colab_type": "text"
      },
      "source": [
        "<a href=\"https://colab.research.google.com/github/CristianGa27/Arreglos_12_08_20_2025/blob/main/Vectores.ipynb\" target=\"_parent\"><img src=\"https://colab.research.google.com/assets/colab-badge.svg\" alt=\"Open In Colab\"/></a>"
      ]
    },
    {
      "cell_type": "code",
      "source": [
        "import numpy as np\n",
        "\n",
        "vector = np.array([1,2,3,4,5])\n",
        "print(vector)\n",
        "\n",
        "print(vector[2])\n",
        "\"\"\"los vectores no son como las listas, no tiene un metodo append() para agregar elementos ,pero un metodo pop()\n",
        "para rliminar elemento, perp si tienes metodo rehhape() para cambiar su forma, adicionalmente despues\n",
        "crear no se puede cambiar el tamaño del vector\"\"\"\n",
        "\n",
        "vector1 = np.zeros(5)\n",
        "print(vector1)\n",
        "vector2 = np.ones(5)\n",
        "print(vector2)\n",
        "vector3 = np.arange(1,10)\n",
        "print(\"rango\",vector3)\n",
        "vector4 = np.linspace(1,5,100)\n",
        "print(vector4)\n",
        "vector5 = np.random.rand(10)\n",
        "print(\"ramdom\" , vector5)\n",
        "vector6 = np.random.randint(1,10,10)\n",
        "print(\"randint\", vector6)"
      ],
      "metadata": {
        "colab": {
          "base_uri": "https://localhost:8080/"
        },
        "id": "INKfM4-HWI14",
        "outputId": "52ba7851-b7a5-4100-825e-a053a15cbbbd"
      },
      "execution_count": 1,
      "outputs": [
        {
          "output_type": "stream",
          "name": "stdout",
          "text": [
            "[1 2 3 4 5]\n",
            "3\n",
            "[0. 0. 0. 0. 0.]\n",
            "[1. 1. 1. 1. 1.]\n",
            "rango [1 2 3 4 5 6 7 8 9]\n",
            "[1.         1.04040404 1.08080808 1.12121212 1.16161616 1.2020202\n",
            " 1.24242424 1.28282828 1.32323232 1.36363636 1.4040404  1.44444444\n",
            " 1.48484848 1.52525253 1.56565657 1.60606061 1.64646465 1.68686869\n",
            " 1.72727273 1.76767677 1.80808081 1.84848485 1.88888889 1.92929293\n",
            " 1.96969697 2.01010101 2.05050505 2.09090909 2.13131313 2.17171717\n",
            " 2.21212121 2.25252525 2.29292929 2.33333333 2.37373737 2.41414141\n",
            " 2.45454545 2.49494949 2.53535354 2.57575758 2.61616162 2.65656566\n",
            " 2.6969697  2.73737374 2.77777778 2.81818182 2.85858586 2.8989899\n",
            " 2.93939394 2.97979798 3.02020202 3.06060606 3.1010101  3.14141414\n",
            " 3.18181818 3.22222222 3.26262626 3.3030303  3.34343434 3.38383838\n",
            " 3.42424242 3.46464646 3.50505051 3.54545455 3.58585859 3.62626263\n",
            " 3.66666667 3.70707071 3.74747475 3.78787879 3.82828283 3.86868687\n",
            " 3.90909091 3.94949495 3.98989899 4.03030303 4.07070707 4.11111111\n",
            " 4.15151515 4.19191919 4.23232323 4.27272727 4.31313131 4.35353535\n",
            " 4.39393939 4.43434343 4.47474747 4.51515152 4.55555556 4.5959596\n",
            " 4.63636364 4.67676768 4.71717172 4.75757576 4.7979798  4.83838384\n",
            " 4.87878788 4.91919192 4.95959596 5.        ]\n",
            "ramdom [0.70651296 0.67503652 0.50275317 0.50218519 0.86170553 0.7758944\n",
            " 0.38400698 0.27397555 0.69270835 0.43101282]\n",
            "randint [7 7 9 2 7 9 1 6 5 3]\n"
          ]
        }
      ]
    }
  ]
}